{
  "nbformat": 4,
  "nbformat_minor": 0,
  "metadata": {
    "colab": {
      "name": "SERN_Contour_Prediction_Using_Neural_Network.ipynb",
      "provenance": [],
      "collapsed_sections": [
        "B_Kltl5X4Zty",
        "eQyJl-SH96lY"
      ]
    },
    "kernelspec": {
      "name": "python3",
      "display_name": "Python 3"
    },
    "language_info": {
      "name": "python"
    }
  },
  "cells": [
    {
      "cell_type": "markdown",
      "source": [
        "---------------------------\n",
        "\n",
        "# Title : SERN Contour Prediction Using Neural Network\n",
        "### Author : Neelay Doshi\n",
        "\n",
        "---------------------------\n",
        "\n",
        "### Introduction :\n",
        "\n",
        "We will be using neural-newtwork to predict the nozzle contour in the following two projects:\n",
        "1. We will first see if an neural-network can be trained to fit the the contour of a single nozzle geometry wherein the input features is simply the x-coordinate (`x`) and the desired output prediction is its y-coordinate (`y`). \n",
        "2. Next, we will see if we can extend this to predict the nozzle contour of any nozzle given the input variables x-coordinate (`x`), inlet Mach number (`M_0`) and exit Mach number (`M_e`). The model will be tested upon a seperate validation dataset.\n",
        "\n",
        "---------------------------"
      ],
      "metadata": {
        "id": "ThCC9ffSMFSN"
      }
    },
    {
      "cell_type": "markdown",
      "source": [
        "# 1. Curve Fitting for Single Nozzle\n"
      ],
      "metadata": {
        "id": "B_Kltl5X4Zty"
      }
    },
    {
      "cell_type": "code",
      "source": [
        "#################\n",
        "# Note : \n",
        "#################\n",
        "# I have saved my dataset on drive and am thus navigating to the appropriate\n",
        "# directory by accessing my drive.  \n",
        "# Incase you are running this file locally, then you needn't access your drive \n",
        "# and can change the path to your dataset accordingly.\n",
        "# If you are using googlecolab (as I am), you may upload the dataset to your\n",
        "# drive and change the navigation path accordingly.\n",
        "#################\n",
        "\n",
        "#################\n",
        "# connect to google drive\n",
        "from google.colab import drive\n",
        "drive.mount('/content/drive')\n",
        "\n",
        "#################\n",
        "# navigate to directory containing dataset\n",
        "%cd '/content/drive/MyDrive/AI/Nly_Proj/data'\n"
      ],
      "metadata": {
        "colab": {
          "base_uri": "https://localhost:8080/"
        },
        "id": "r3gNdU5f4ZMb",
        "outputId": "fe0619aa-6201-4651-f486-434bbddf5f28"
      },
      "execution_count": 1,
      "outputs": [
        {
          "output_type": "stream",
          "name": "stdout",
          "text": [
            "Drive already mounted at /content/drive; to attempt to forcibly remount, call drive.mount(\"/content/drive\", force_remount=True).\n",
            "/content/drive/MyDrive/AI/Nly_Proj/data\n"
          ]
        }
      ]
    },
    {
      "cell_type": "code",
      "source": [
        "#################\n",
        "import pandas as pd\n",
        "\n",
        "#################\n",
        "# importing single nozzle profile from the training dataset\n",
        "inx       = 5 # (inx <= 209) # index of the nozzle we wish to use from the training dataset\n",
        "df_train  = pd.read_csv('nozzle_train.csv')\n",
        "X_train   = df_train['x'].loc[ 50*inx : 50*inx + 49 ]\n",
        "y_train   = df_train['y'].loc[ 50*inx : 50*inx + 49 ]\n",
        "\n",
        "#################\n",
        "# normalization\n",
        "mu      = X_train.mean() # mean\n",
        "sigma   = X_train.std() # standard deviation\n",
        "y_max   = y_train.max() # maximum value of \"y\"\n",
        "\n",
        "X_train = (X_train-mu)/sigma # mean-normalization\n",
        "y_train = y_train/y_max # scaling \"y\" to range [0, 1]\n"
      ],
      "metadata": {
        "id": "l0Sj5BbW8bnu"
      },
      "execution_count": 2,
      "outputs": []
    },
    {
      "cell_type": "code",
      "source": [
        "#################\n",
        "# printing \n",
        "print('#'*27)\n",
        "print('x_train shape = ', X_train.shape)\n",
        "print('y_train shape = ', y_train.shape)\n",
        "print('#'*27)\n",
        "print(X_train.head())\n",
        "print('#'*27)\n",
        "print(y_train.head())\n",
        "print('#'*27)"
      ],
      "metadata": {
        "colab": {
          "base_uri": "https://localhost:8080/"
        },
        "id": "X_TuJNYZVGc-",
        "outputId": "9881620c-eff6-4c27-d109-b83ef64ea876"
      },
      "execution_count": 3,
      "outputs": [
        {
          "output_type": "stream",
          "name": "stdout",
          "text": [
            "###########################\n",
            "x_train shape =  (50,)\n",
            "y_train shape =  (50,)\n",
            "###########################\n",
            "250   -1.199396\n",
            "251   -1.175452\n",
            "252   -1.150700\n",
            "253   -1.125097\n",
            "254   -1.098613\n",
            "Name: x, dtype: float64\n",
            "###########################\n",
            "250    0.000000\n",
            "251    0.020231\n",
            "252    0.040462\n",
            "253    0.060694\n",
            "254    0.083815\n",
            "Name: y, dtype: float64\n",
            "###########################\n"
          ]
        }
      ]
    },
    {
      "cell_type": "code",
      "source": [
        "#################\n",
        "from tensorflow import keras\n",
        "from keras import layers\n",
        "\n",
        "#################\n",
        "features = [1]\n",
        "\n",
        "#################\n",
        "# creating neural-network\n",
        "#################\n",
        "model = keras.Sequential([\n",
        "          layers.Dense(units=64, activation='relu', input_shape=features),\n",
        "          layers.Dense(units=64, activation='relu'),\n",
        "          layers.Dense(units=1, activation='linear'), \n",
        "])\n",
        "\n",
        "\n",
        "#################\n",
        "# initializing model \"loss\" and \"optimizer\"\n",
        "# \"mae\" seems to works better than \"mse\" \n",
        "model.compile(loss='mae', optimizer=\"adam\")\n",
        "\n",
        "#################\n",
        "# training model\n",
        "history = model.fit(\n",
        "    X_train, y_train, \n",
        "    epochs=100, \n",
        "    verbose=0 \n",
        "    )\n",
        "\n",
        "#################\n",
        "# plotting \"loss\" function \n",
        "history_df = pd.DataFrame(history.history)\n",
        "history_df.loc[5:, ['loss']].plot();\n",
        "print(\"Minimum loss: {}\".format(history_df['loss'].min()))\n"
      ],
      "metadata": {
        "colab": {
          "base_uri": "https://localhost:8080/",
          "height": 282
        },
        "id": "HIy_S_qq54Ij",
        "outputId": "74925d18-9e8f-4b5d-f82a-257b8c24812d"
      },
      "execution_count": 4,
      "outputs": [
        {
          "output_type": "stream",
          "name": "stdout",
          "text": [
            "Minimum loss: 0.003331526881083846\n"
          ]
        },
        {
          "output_type": "display_data",
          "data": {
            "text/plain": [
              "<Figure size 432x288 with 1 Axes>"
            ],
            "image/png": "[encoded data removed]"
          },
          "metadata": {
            "needs_background": "light"
          }
        }
      ]
    },
    {
      "cell_type": "code",
      "source": [
        "#################\n",
        "import matplotlib.pyplot as plt\n",
        "\n",
        "#################\n",
        "# predict the \"y\" coordinate using the trained model  \n",
        "y_pred  = model.predict(X_train)\n",
        "y_pred  = y_pred*y_max # scale it back to original size\n",
        "\n",
        "#################\n",
        "# get the original (x, y) coordinates from training dataset\n",
        "x_org   = df_train['x'].loc[ 50*inx : 50*inx + 49 ]\n",
        "y_org   = df_train['y'].loc[ 50*inx : 50*inx + 49 ]\n",
        "\n",
        "#################\n",
        "# display comparison between predicted and actual nozzle contour\n",
        "plt.scatter(x_org, y_org)\n",
        "plt.plot(x_org, y_pred, 'r', linewidth=2)\n",
        "plt.axis('equal')\n"
      ],
      "metadata": {
        "colab": {
          "base_uri": "https://localhost:8080/",
          "height": 284
        },
        "id": "JS2MyO4F4f9E",
        "outputId": "4e97b0a4-d53f-4019-b90a-4a8dd4406433"
      },
      "execution_count": 5,
      "outputs": [
        {
          "output_type": "execute_result",
          "data": {
            "text/plain": [
              "(-1.18598, 24.90558, -0.17300000000000001, 3.633)"
            ]
          },
          "metadata": {},
          "execution_count": 5
        },
        {
          "output_type": "display_data",
          "data": {
            "text/plain": [
              "<Figure size 432x288 with 1 Axes>"
            ],
            "image/png": "[encoded data removed]"
          },
          "metadata": {
            "needs_background": "light"
          }
        }
      ]
    },
    {
      "cell_type": "code",
      "source": [
        ""
      ],
      "metadata": {
        "id": "RK3g4-Pu96W7"
      },
      "execution_count": 5,
      "outputs": []
    },
    {
      "cell_type": "markdown",
      "source": [
        "# 2. Curve Fitting for Multiple Nozzles\n"
      ],
      "metadata": {
        "id": "eQyJl-SH96lY"
      }
    },
    {
      "cell_type": "code",
      "source": [
        "#################\n",
        "# Note : \n",
        "#################\n",
        "# I have saved my dataset on drive and am thus navigating to the appropriate\n",
        "# directory by accessing my drive.  \n",
        "# Incase you are running this file locally, then you needn't access your drive \n",
        "# and can change the path to your dataset accordingly.\n",
        "# If you are using googlecolab (as I am), you may upload the dataset to your\n",
        "# drive and change the navigation path accordingly.\n",
        "#################\n",
        "\n",
        "#################\n",
        "# connect to google drive\n",
        "from google.colab import drive\n",
        "drive.mount('/content/drive')\n",
        "\n",
        "#################\n",
        "# navigate to directory containing dataset\n",
        "%cd '/content/drive/MyDrive/AI/Nly_Proj/data'\n"
      ],
      "metadata": {
        "colab": {
          "base_uri": "https://localhost:8080/"
        },
        "id": "tEimng-K-CvU",
        "outputId": "85db963c-5033-42ce-b573-442297823e0e"
      },
      "execution_count": 6,
      "outputs": [
        {
          "output_type": "stream",
          "name": "stdout",
          "text": [
            "Drive already mounted at /content/drive; to attempt to forcibly remount, call drive.mount(\"/content/drive\", force_remount=True).\n",
            "/content/drive/MyDrive/AI/Nly_Proj/data\n"
          ]
        }
      ]
    },
    {
      "cell_type": "code",
      "source": [
        "#################\n",
        "import pandas as pd\n",
        "from sklearn.utils import shuffle\n",
        "\n",
        "#################\n",
        "# importing training dataset\n",
        "df_train  = pd.read_csv('nozzle_train.csv')\n",
        "X_train   = df_train.drop('y', axis=1)\n",
        "y_train   = df_train['y']\n",
        "\n",
        "#################\n",
        "print('#'*27)\n",
        "print('x_train shape = ', X_train.shape)\n",
        "print('y_train shape = ', y_train.shape)\n",
        "print('#'*27)"
      ],
      "metadata": {
        "colab": {
          "base_uri": "https://localhost:8080/"
        },
        "id": "vZ-MBulu-EYT",
        "outputId": "76f05812-c1d4-4b1f-96d6-bbdc85270929"
      },
      "execution_count": 7,
      "outputs": [
        {
          "output_type": "stream",
          "name": "stdout",
          "text": [
            "###########################\n",
            "x_train shape =  (10500, 3)\n",
            "y_train shape =  (10500,)\n",
            "###########################\n"
          ]
        }
      ]
    },
    {
      "cell_type": "code",
      "source": [
        "#################\n",
        "# normalization of dataset\n",
        "mu      = X_train.mean()\n",
        "sigma   = X_train.std()\n",
        "y_max   = y_train.max()\n",
        "\n",
        "X_train = (X_train-mu)/sigma # mean-normalization\n",
        "y_train = y_train/y_max # scaling to range [0, 1]\n",
        "\n",
        "#################\n",
        "# printing\n",
        "print('#'*27)\n",
        "print(X_train.head())\n",
        "print('#'*27)\n",
        "print(y_train.head())\n",
        "print('#'*27)"
      ],
      "metadata": {
        "id": "WtOWs6DKhDBt",
        "colab": {
          "base_uri": "https://localhost:8080/"
        },
        "outputId": "af0674ea-ff4c-4e04-bcc2-8067bb9a30c0"
      },
      "execution_count": 8,
      "outputs": [
        {
          "output_type": "stream",
          "name": "stdout",
          "text": [
            "###########################\n",
            "          x        M0        Me\n",
            "0 -0.815312 -1.566624 -1.651367\n",
            "1 -0.807340 -1.566624 -1.651367\n",
            "2 -0.799180 -1.566624 -1.651367\n",
            "3 -0.790827 -1.566624 -1.651367\n",
            "4 -0.782259 -1.566624 -1.651367\n",
            "###########################\n",
            "0    0.000000\n",
            "1    0.002186\n",
            "2    0.004372\n",
            "3    0.006557\n",
            "4    0.008743\n",
            "Name: y, dtype: float64\n",
            "###########################\n"
          ]
        }
      ]
    },
    {
      "cell_type": "code",
      "source": [
        "#################\n",
        "from keras import layers\n",
        "from tensorflow import keras\n",
        "\n",
        "#################\n",
        "# number of input features\n",
        "features = [X_train.shape[1]]\n",
        "\n",
        "#################\n",
        "# creating neural-network\n",
        "# compare \"relu\" and \"leaky_relu\" for activation-function\n",
        "activation = 'relu'\n",
        "model = keras.Sequential([\n",
        "          layers.Dense(units=128, activation=activation, input_shape=features),\n",
        "          layers.Dense(units=128, activation=activation),\n",
        "          layers.Dense(units=64, activation=activation),\n",
        "          layers.Dense(units=1, activation='linear'), \n",
        "])\n",
        "\n",
        "\n",
        "#################\n",
        "# initializing model \"loss\" and \"optimizer\"\n",
        "# compare \"mse\" and \"mae\" for loss-function\n",
        "model.compile(loss='mse', optimizer=\"adam\")\n",
        "\n",
        "#################\n",
        "# training model\n",
        "history = model.fit(\n",
        "    X_train, y_train, \n",
        "    batch_size = 100,\n",
        "    epochs=150, \n",
        "    shuffle=True,\n",
        "    verbose=0 \n",
        "    )\n",
        "\n",
        "#################\n",
        "# plotting \"loss\" function \n",
        "history_df = pd.DataFrame(history.history)\n",
        "history_df.loc[:, ['loss']].plot();\n",
        "print(\"Minimum loss: {}\".format(history_df['loss'].min()))\n"
      ],
      "metadata": {
        "colab": {
          "base_uri": "https://localhost:8080/",
          "height": 284
        },
        "id": "JwhCOybD-gfV",
        "outputId": "d7f4dfa8-b7ab-4f8e-a28a-7b6be0278364"
      },
      "execution_count": 9,
      "outputs": [
        {
          "output_type": "stream",
          "name": "stdout",
          "text": [
            "Minimum loss: 7.141318292269716e-07\n"
          ]
        },
        {
          "output_type": "display_data",
          "data": {
            "text/plain": [
              "<Figure size 432x288 with 1 Axes>"
            ],
            "image/png": "[encoded data removed]"
          },
          "metadata": {
            "needs_background": "light"
          }
        }
      ]
    },
    {
      "cell_type": "code",
      "source": [
        "#################\n",
        "# importing validation dataset\n",
        "df_valid  = pd.read_csv('nozzle_test.csv')\n",
        "X_valid   = df_valid.drop('y', axis=1)\n",
        "y_valid   = df_valid['y']\n",
        "\n",
        "#################\n",
        "# normalization\n",
        "X_valid = (X_valid-mu)/sigma # mean-normalization\n",
        "y_valid = y_valid/y_max # scaling to range [0, 1]\n",
        "\n",
        "#################\n",
        "print('#'*27)\n",
        "print('x_valid shape = ', X_valid.shape)\n",
        "print('y_valid shape = ', y_valid.shape)\n",
        "print('#'*27)"
      ],
      "metadata": {
        "colab": {
          "base_uri": "https://localhost:8080/"
        },
        "id": "ehgjfviCxXTs",
        "outputId": "30370240-bc8f-4694-9c02-1a3b2d4bc5cd"
      },
      "execution_count": 10,
      "outputs": [
        {
          "output_type": "stream",
          "name": "stdout",
          "text": [
            "###########################\n",
            "x_valid shape =  (2500, 3)\n",
            "y_valid shape =  (2500,)\n",
            "###########################\n"
          ]
        }
      ]
    },
    {
      "cell_type": "code",
      "source": [
        "#################\n",
        "import matplotlib.pyplot as plt\n",
        "\n",
        "#################\n",
        "# Compute the predicted output \n",
        "inx     = 25 # (inx < 49)\n",
        "\n",
        "X_inx   = X_valid.loc[ 50*inx : 50*inx+49, : ] # normalized\n",
        "x_inx   = df_valid['x'].loc[ 50*inx : 50*inx+49 ]\n",
        "y_inx   = df_valid['y'].loc[ 50*inx : 50*inx+49 ]\n",
        "y_pred  = model.predict(X_inx) * y_max\n",
        "\n",
        "\n",
        "#################\n",
        "# Display the result\n",
        "plt.plot(x_inx, y_inx, '*b')\n",
        "plt.plot(x_inx, y_pred, 'r', linewidth=2)\n",
        "plt.axis('equal')\n"
      ],
      "metadata": {
        "colab": {
          "base_uri": "https://localhost:8080/",
          "height": 282
        },
        "id": "yPiXzpri-i1T",
        "outputId": "09351276-04db-4966-af8f-7f5b756218f8"
      },
      "execution_count": 11,
      "outputs": [
        {
          "output_type": "execute_result",
          "data": {
            "text/plain": [
              "(-1.6220949999999998, 34.063995, -0.21844544762745502, 4.358021211791784)"
            ]
          },
          "metadata": {},
          "execution_count": 11
        },
        {
          "output_type": "display_data",
          "data": {
            "text/plain": [
              "<Figure size 432x288 with 1 Axes>"
            ],
            "image/png": "[encoded data removed]"
          },
          "metadata": {
            "needs_background": "light"
          }
        }
      ]
    },
    {
      "cell_type": "markdown",
      "source": [
        "---------------------------\n",
        "# Conclusion \n",
        "---------------------------\n",
        "\n",
        "* The neural-network can easily predict the curve for a single nozzle.\n",
        "* For multiple nozzle it is able to predict well for large nozzles, but not so for smaller nozzles. \n",
        "* Further modification in the neural-network could lead to better prediction for multiple nozzles as well. \n",
        "* Once an apporpriate model is found and trained, the forward-propogation step of neural-network can run and predict the nozzle profile much faster than MoC code ([here](https://github.com/neelaydoshi/nozzle-design-using-MoC)) and thus save time.\n",
        "*The great benifit of using neural-network over linear-regression is that we do not need to hypothesize with various other complex input features as was done in my previous project ([here](https://github.com/neelaydoshi/nozzle-contour-prediction-using-linear-regression)).\n",
        "\n",
        "---------------------------"
      ],
      "metadata": {
        "id": "WQWpqRGV2K8k"
      }
    }
  ]
}